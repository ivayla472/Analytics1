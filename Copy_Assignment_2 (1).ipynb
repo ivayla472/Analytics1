{
  "metadata": {
    "celltoolbar": "Edit Metadata",
    "colab": {
      "provenance": []
    },
    "kernelspec": {
      "display_name": "Python 3 (ipykernel)",
      "language": "python",
      "name": "python3"
    },
    "language_info": {
      "codemirror_mode": {
        "name": "ipython",
        "version": 3
      },
      "file_extension": ".py",
      "mimetype": "text/x-python",
      "name": "python",
      "nbconvert_exporter": "python",
      "pygments_lexer": "ipython3",
      "version": "3.9.13"
    }
  },
  "nbformat": 4,
  "nbformat_minor": 0,
  "cells": [
    {
      "cell_type": "code",
      "execution_count": 19,
      "source": [
        "# Run this cell first!\n",
        "class _CgAnswers: ...\n",
        "answers = _CgAnswers()\n"
      ],
      "outputs": [],
      "metadata": {
        "trusted": true,
        "editable": false,
        "deletable": false,
        "id": "xwF4l-fXnwXY"
      }
    },
    {
      "cell_type": "markdown",
      "metadata": {
        "id": "Am9ecw9yWv96",
        "nbgrader": {
          "grade": false,
          "grade_id": "cell-48f3558955bbd1c0",
          "locked": true,
          "schema_version": 3,
          "solution": false,
          "task": false
        },
        "trusted": true,
        "editable": false,
        "deletable": false
      },
      "source": [
        "# Analytics for a better world\n",
        "## Assignment 2: Introduction to Python"
      ]
    },
    {
      "cell_type": "markdown",
      "metadata": {
        "id": "xg2v6bkkP3rg",
        "trusted": true,
        "editable": false,
        "deletable": false
      },
      "source": [
        "___\n",
        "\n",
        "* This assignment is made for auto-grading with CodeGrade in Canvas.\n",
        "* The questions are related to the [\"Python introduction\" notebook](https://colab.research.google.com/drive/16N44UkM-SMkP05cXpMExvoz80WuwifEG).\n",
        "* Write your code.\n",
        "* **NEVER TOUCH THE CODE WHERE IT IS MARKED \"DO NOT CHANGE\"**\n",
        "* Submit through Canvas: [Link](https://canvas.uva.nl/courses/25015/assignments/303650)\n",
        "* Check the feedback."
      ]
    },
    {
      "cell_type": "markdown",
      "metadata": {
        "tags": [],
        "trusted": true,
        "editable": false,
        "deletable": false,
        "id": "a_HCmY46nwXe"
      },
      "source": [
        "# Question 1 - Operators (1 point)"
      ]
    },
    {
      "cell_type": "markdown",
      "metadata": {
        "trusted": true,
        "editable": false,
        "deletable": false,
        "id": "qhuulWIQnwXe"
      },
      "source": [
        "Below three variables are declared: `x`, `y` and `z`. We ask you to use these values and python operators to calculate new values, and assign them to new variables:\n",
        "- Create a variable `sum_xy` and let its value be the sum of `x` and `y`.\n",
        "- Create a variable `product_yz` and let its value be the product of `y` and `z`.\n",
        "- Create a variable `div_xz` and let its value be `x` divided by `z`.\n",
        "- Create a variable `pow_xy` and let its value `x` to the power of `y`.\n",
        "\n",
        "**POINTS**\n",
        "- Creating the following variables and assigning the correct values to them: 1 point\n",
        "    "
      ]
    },
    {
      "cell_type": "code",
      "execution_count": null,
      "metadata": {
        "tags": [],
        "id": "xz6MeKMsnwXf"
      },
      "outputs": [],
      "source": [
        "# DO NOT CHANGE\n",
        "x = 15\n",
        "y = 4\n",
        "z = 8"
      ]
    },
    {
      "cell_type": "code",
      "execution_count": null,
      "metadata": {
        "id": "JGpgxdt7CsjH",
        "nbgrader": {
          "grade": false,
          "grade_id": "cell-9bd844c85ce879f1",
          "locked": true,
          "schema_version": 3,
          "solution": false,
          "task": false
        },
        "colab": {
          "base_uri": "https://localhost:8080/"
        },
        "outputId": "90e07429-34cd-4ad7-8641-1312dbf9cfe3"
      },
      "outputs": [
        {
          "output_type": "stream",
          "name": "stdout",
          "text": [
            "19\n",
            "32\n",
            "1.875\n",
            "50625\n"
          ]
        }
      ],
      "source": [
        "### BEGIN SOLUTION\n",
        "x = 15\n",
        "y = 4\n",
        "z = 8\n",
        "sum_xy = x + y\n",
        "product_yz = y * z\n",
        "div_xz = x / z\n",
        "pow_xy = x ** y\n",
        "print(sum_xy)\n",
        "print(product_yz)\n",
        "print(div_xz)\n",
        "print(pow_xy)\n",
        "### END SOLUTION"
      ]
    },
    {
      "cell_type": "code",
      "execution_count": null,
      "metadata": {
        "deletable": false,
        "tags": [],
        "id": "MocmxIKQnwXg"
      },
      "outputs": [],
      "source": [
        "# DO NOT CHANGE\n",
        "answers.Q1 = [sum_xy, product_yz, div_xz, pow_xy]"
      ]
    },
    {
      "cell_type": "markdown",
      "metadata": {
        "trusted": true,
        "editable": false,
        "deletable": false,
        "id": "eaeB92YpnwXg"
      },
      "source": [
        "# Question 2 - functions (2 points)"
      ]
    },
    {
      "cell_type": "markdown",
      "metadata": {
        "trusted": true,
        "editable": false,
        "deletable": false,
        "id": "5Gy4SQMAnwXh"
      },
      "source": [
        "In the previous question you have applied operations to given variables x, y and z. In this excercise we will define a function for both the division and power calculation.\n",
        "- Define a function `divide`, taking two arguments, and returning the first argument divided by the second argument.\n",
        "- Define a function `power`, taking two arguments, and returning the first argument to the power of the second argument.\n",
        "\n",
        "**POINTS**\n",
        "* Both functions will be tested on five random combinations of arguments. If the answers match expected values: 2 points."
      ]
    },
    {
      "cell_type": "code",
      "execution_count": null,
      "metadata": {
        "id": "ingpQl3jnwXh"
      },
      "outputs": [],
      "source": [
        "### BEGIN SOLUTION\n",
        "def divide(x,y):\n",
        "  result = x / y\n",
        "  return result\n",
        "\n",
        "def power(x,y):\n",
        "  result = x ** y\n",
        "  return(result)\n",
        "### END SOLUTION"
      ]
    },
    {
      "cell_type": "code",
      "execution_count": null,
      "metadata": {
        "tags": [],
        "id": "8WzDqTFEnwXh"
      },
      "outputs": [],
      "source": [
        "# DO NOT CHANGE\n",
        "answers.Q2_div = divide\n",
        "answers.Q2_pow = power"
      ]
    },
    {
      "cell_type": "markdown",
      "metadata": {
        "trusted": true,
        "editable": false,
        "deletable": false,
        "id": "wUL4YEGOnwXi"
      },
      "source": [
        "# Question 3 - Data Types (3 points)"
      ]
    },
    {
      "cell_type": "markdown",
      "metadata": {
        "trusted": true,
        "editable": false,
        "deletable": false,
        "id": "ADc6EJ3WnwXi"
      },
      "source": [
        "Some text with reference to introduction to python notebook\n",
        "\n",
        "- Create a list `l` with numbers 1 to 5.\n",
        "- Create a string `s` with characters \"a\" to \"g\".\n",
        "- Create a dictionary `d` with integer numbewors 1 to 5 as keys, and their corresponding word as a value. E.g. for key `1` the value should be `\"one\"`.\n",
        "- Define a function `third_and_fourth_element`, taking one argument. You may assume that the argument given to the function is a list or string with a length of at least four elements. The function should return the third and the fourth element of the given list or string.\n",
        "- Define a function `last_two_elements`, taking one argument. You may assume that the argument given to the function is a list or string with a length of at least two elements. The function should return the last two elements of the given list or string.\n",
        "\n",
        "**POINTS**\n",
        "* Correctly defining list `l`, string `s` and dictionary `d`: 1 point.\n",
        "* Both functions `third_and_fourth_element` and `last_two_elements` will be tested on a few strings and lists. Both functions are worth 1 point if correctly implemented."
      ]
    },
    {
      "cell_type": "code",
      "execution_count": 13,
      "metadata": {
        "id": "uQAQz71tnwXj",
        "colab": {
          "base_uri": "https://localhost:8080/"
        },
        "outputId": "5d38f54f-eb9a-4853-8b3f-399cd8b54d68"
      },
      "outputs": [
        {
          "output_type": "stream",
          "name": "stdout",
          "text": [
            "ks\n"
          ]
        }
      ],
      "source": [
        "### BEGIN SOLUTION\n",
        "l = [1,2,3,4,5]\n",
        "s = 'abcdefg'\n",
        "d = { 1: 'one', 2: 'two', 3: 'three', 4: 'four', 5: 'five'}\n",
        "def third_and_fourth_element(input_data):\n",
        "  third_and_fourth_element = input_data[2:4]\n",
        "  return(third_and_fourth_element)\n",
        "\n",
        "def last_two_elements(input_data):\n",
        "  last_two_elements = input_data[-2:]\n",
        "  return(last_two_elements)\n",
        "\n",
        "### END SOLUTION"
      ]
    },
    {
      "cell_type": "code",
      "execution_count": null,
      "metadata": {
        "deletable": false,
        "tags": [],
        "id": "h53asKMlnwXj"
      },
      "outputs": [],
      "source": [
        "# DO NOT CHANGE\n",
        "answers.Q3_lsd = {\"l\":l, \"s\":s, \"d\":d}\n",
        "answers.Q3_first = third_and_fourth_element\n",
        "answers.Q3_last = last_two_elements"
      ]
    },
    {
      "cell_type": "markdown",
      "metadata": {
        "trusted": true,
        "editable": false,
        "deletable": false,
        "id": "I7P2szt9nwXj"
      },
      "source": [
        "# Question 4 - `if` and `for` (3 points)"
      ]
    },
    {
      "cell_type": "markdown",
      "metadata": {
        "trusted": true,
        "editable": false,
        "deletable": false,
        "id": "6G6IdhymnwXj"
      },
      "source": [
        "- Define a function `string_length`:\n",
        "    * Taking one argument that is a string.\n",
        "    * The function should return `\"large\"` if the length of the string is more than 5.\n",
        "    * It should return `\"small\"` if the length is equal to or smaller than 5.\n",
        "    * It should return `\"empty\"` when the length of the string is 0.\n",
        "    \n",
        "- Define a function `length_of_list_elements`:\n",
        "    * Taking one argument `l` that is a list of strings.\n",
        "    * Returning a list of the same length as `l`.\n",
        "    * The returned list should contain the result of function `string_length` **for** each string `s` in `l`.\n",
        "    * **Example**: when calling the function `length_of_list_elements` with argument `l = [\"xx\", \"abcdefg\", \"123\", \"\"]`, the function should return the list `[\"small\", \"large\", \"small\", \"empty\"]`.\n",
        "\n",
        "**POINTS**\n",
        "* Correctly defining the function `string_length`: 1 point\n",
        "* Correctly defining the function `length_of_list_elements`: 2 points"
      ]
    },
    {
      "cell_type": "code",
      "execution_count": 21,
      "metadata": {
        "id": "GunABrhKnwXk"
      },
      "outputs": [],
      "source": [
        "### BEGIN SOLUTION\n",
        "def string_length(s):\n",
        "  len(s)\n",
        "  if len(s) > 5:\n",
        "    return('large')\n",
        "  elif 0 < len(s) <= 5:\n",
        "    return('small')\n",
        "  elif len(s) == 0:\n",
        "    return('empty')\n",
        "\n",
        "def length_of_list_elements(l):\n",
        "  len = [string_length(s) for s in l]\n",
        "  return(len)\n",
        "### END SOLUTION"
      ]
    },
    {
      "cell_type": "code",
      "execution_count": 20,
      "metadata": {
        "tags": [],
        "id": "P1KDk6mrnwXk"
      },
      "outputs": [],
      "source": [
        "# DO NOT CHANGE\n",
        "answers.Q4_if = string_length\n",
        "answers.Q4_for = length_of_list_elements"
      ]
    },
    {
      "cell_type": "markdown",
      "metadata": {
        "trusted": true,
        "editable": false,
        "deletable": false,
        "id": "JzWZNGXjnwXk"
      },
      "source": [
        "# Question 5 - Modules (1 point)"
      ]
    },
    {
      "cell_type": "markdown",
      "metadata": {
        "trusted": true,
        "editable": false,
        "deletable": false,
        "id": "l80p7BQYnwXk"
      },
      "source": [
        "- Import the `numpy` module as `np`.\n",
        "- Import the `pandas` module as `pd`.\n",
        "- Create a 2-dimensional numpy `array`, of at least size 2 in both dimensions and assign it to a variable `data`.\n",
        "- Transform `data` into a pandas `DataFrame` and assign it to a variable `df`.\n",
        "- [Hint](https://www.adamsmith.haus/python/answers/how-to-create-pandas-dataframe-from-a-numpy-array-in-python)\n",
        "\n",
        "**POINTS**\n",
        "* Creating an array using the `numpy` module: 0.5 points\n",
        "* Creating a dataframe using the `pandas`: 0.5 points"
      ]
    },
    {
      "cell_type": "code",
      "execution_count": null,
      "metadata": {
        "id": "YA1GHcYwnwXl",
        "colab": {
          "base_uri": "https://localhost:8080/"
        },
        "outputId": "615fa85f-af24-4245-b8b2-ac47a9f0d024"
      },
      "outputs": [
        {
          "output_type": "stream",
          "name": "stdout",
          "text": [
            "   0  1\n",
            "0  1  2\n",
            "1  3  4\n",
            "2  5  6\n"
          ]
        }
      ],
      "source": [
        "### BEGIN SOLUTION\n",
        "import numpy as np\n",
        "import pandas as pd\n",
        "\n",
        "data = np.array([[1, 2], [3, 4], [5, 6]])\n",
        "df = pd.DataFrame(data)\n",
        "print(df)\n",
        "### END SOLUTION"
      ]
    },
    {
      "cell_type": "code",
      "execution_count": null,
      "metadata": {
        "tags": [],
        "id": "D1qc_4vnnwXl"
      },
      "outputs": [],
      "source": [
        "# DO NOT CHANGE\n",
        "answers.Q5_data = data\n",
        "answers.Q5_df = df"
      ]
    }
  ]
}