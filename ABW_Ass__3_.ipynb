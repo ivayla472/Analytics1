{
  "metadata": {
    "colab": {
      "provenance": []
    },
    "kernelspec": {
      "display_name": "Python 3 (ipykernel)",
      "language": "python",
      "name": "python3"
    },
    "language_info": {
      "codemirror_mode": {
        "name": "ipython",
        "version": 3
      },
      "file_extension": ".py",
      "mimetype": "text/x-python",
      "name": "python",
      "nbconvert_exporter": "python",
      "pygments_lexer": "ipython3",
      "version": "3.9.7"
    }
  },
  "nbformat": 4,
  "nbformat_minor": 0,
  "cells": [
    {
      "cell_type": "code",
      "execution_count": 1,
      "source": [
        "# DO NOT CHANGE\n",
        "# Run this cell first!\n",
        "class _CgAnswers: ...\n",
        "answers = _CgAnswers()"
      ],
      "outputs": [],
      "metadata": {
        "trusted": true,
        "editable": false,
        "deletable": false,
        "id": "-TZbYh9CLZg2"
      }
    },
    {
      "cell_type": "markdown",
      "metadata": {
        "id": "aPvP6C67e-5w",
        "trusted": true,
        "editable": false,
        "deletable": false
      },
      "source": [
        "# Analytics for a better world\n",
        "## Assignment 3: Linear Regression\n",
        "Hint: you may want to have a look at the resolution for exercise 2.10 [here](https://colab.research.google.com/drive/1u_9tzBpNf0N9btt1Ia174b5vYkHWo-Fz)"
      ]
    },
    {
      "cell_type": "markdown",
      "metadata": {
        "id": "tVEpWnwOfCtf",
        "trusted": true,
        "editable": false,
        "deletable": false
      },
      "source": [
        "___\n",
        "\n",
        "\n",
        "* This assignment is made for auto-grading with CodeGrade in Canvas\n",
        "* Write your code\n",
        "* **NEVER TOUCH THE CODE WHERE IT IS MARKED \"DO NOT CHANGE\"**\n",
        "* Submit through Canvas: [Link](https://canvas.uva.nl/courses/32521/assignments/362980)\n",
        "* Check the feedback"
      ]
    },
    {
      "cell_type": "markdown",
      "metadata": {
        "id": "eUtMYtarf8kQ",
        "trusted": true,
        "editable": false,
        "deletable": false
      },
      "source": [
        "# Question 1 (5 points)\n",
        "\n",
        "For this question we ask you to construct a linear regression model for capturing the relationship between the battery life of a device and the temperature. Imagine a company that manufactures an electronic device to be used in a very wide temperature range. The company knows that increased temperature shortens the battery life time of the device, and a study is therefore performed in which the battery life is determined as a function of temperature. The following data is available:\n",
        "\n",
        "Temperature ($^\\circ C$)  | Battery life of device (days)\n",
        "-------------------|------------------\n",
        "10       | 421\n",
        "20       | 365\n",
        "30       | 285\n",
        "40       | 220\n",
        "50       | 176\n",
        "60       | 117\n",
        "70       | 68\n",
        "80       | 34\n",
        "90       | 5\n",
        "\n",
        "Thus, we would like to predict the battery life ($y$) by using the temperature ($x$). The linear regression model would take on the following form:\n",
        "### $\\hat{y} = \\beta_0 + \\beta_1 x$\n"
      ]
    },
    {
      "cell_type": "markdown",
      "metadata": {
        "id": "7Gc_8UeJf_dY",
        "trusted": true,
        "editable": false,
        "deletable": false
      },
      "source": [
        "We want you to construct a linear regression model:\n",
        "* Named `lin_reg`\n",
        "* Train the model on the data provided in order to predict the battery life as a linear function of the temperature\n",
        "\n",
        "**POINTS**\n",
        "* Initializing and defining `lin_reg`, using sklearn.linear_model.LinearRegression: 2 points\n",
        "* Correctly training the model to fit the data: 3 points"
      ]
    },
    {
      "cell_type": "code",
      "execution_count": 2,
      "metadata": {
        "id": "cu3CepQ-ZUk7"
      },
      "outputs": [],
      "source": [
        "# DO NOT CHANGE\n",
        "import numpy as np\n",
        "from sklearn.linear_model import LinearRegression"
      ]
    },
    {
      "cell_type": "code",
      "execution_count": 3,
      "metadata": {
        "id": "dpR7fJRSeqaS"
      },
      "outputs": [],
      "source": [
        "# DO NOT CHANGE\n",
        "temperature = np.array([10, 20, 30, 40, 50, 60, 70, 80, 90]).reshape(-1,1)\n",
        "battery_life = np.array([421, 365, 285, 220, 176, 117, 68, 34, 5]).reshape(-1,1)"
      ]
    },
    {
      "cell_type": "code",
      "execution_count": 5,
      "metadata": {
        "id": "f1X0M3JueqzC",
        "colab": {
          "base_uri": "https://localhost:8080/",
          "height": 74
        },
        "outputId": "d10de1c5-124c-43a5-8144-34fda4fb62d2"
      },
      "outputs": [
        {
          "output_type": "execute_result",
          "data": {
            "text/plain": [
              "LinearRegression()"
            ],
            "text/html": [
              "<style>#sk-container-id-2 {color: black;background-color: white;}#sk-container-id-2 pre{padding: 0;}#sk-container-id-2 div.sk-toggleable {background-color: white;}#sk-container-id-2 label.sk-toggleable__label {cursor: pointer;display: block;width: 100%;margin-bottom: 0;padding: 0.3em;box-sizing: border-box;text-align: center;}#sk-container-id-2 label.sk-toggleable__label-arrow:before {content: \"▸\";float: left;margin-right: 0.25em;color: #696969;}#sk-container-id-2 label.sk-toggleable__label-arrow:hover:before {color: black;}#sk-container-id-2 div.sk-estimator:hover label.sk-toggleable__label-arrow:before {color: black;}#sk-container-id-2 div.sk-toggleable__content {max-height: 0;max-width: 0;overflow: hidden;text-align: left;background-color: #f0f8ff;}#sk-container-id-2 div.sk-toggleable__content pre {margin: 0.2em;color: black;border-radius: 0.25em;background-color: #f0f8ff;}#sk-container-id-2 input.sk-toggleable__control:checked~div.sk-toggleable__content {max-height: 200px;max-width: 100%;overflow: auto;}#sk-container-id-2 input.sk-toggleable__control:checked~label.sk-toggleable__label-arrow:before {content: \"▾\";}#sk-container-id-2 div.sk-estimator input.sk-toggleable__control:checked~label.sk-toggleable__label {background-color: #d4ebff;}#sk-container-id-2 div.sk-label input.sk-toggleable__control:checked~label.sk-toggleable__label {background-color: #d4ebff;}#sk-container-id-2 input.sk-hidden--visually {border: 0;clip: rect(1px 1px 1px 1px);clip: rect(1px, 1px, 1px, 1px);height: 1px;margin: -1px;overflow: hidden;padding: 0;position: absolute;width: 1px;}#sk-container-id-2 div.sk-estimator {font-family: monospace;background-color: #f0f8ff;border: 1px dotted black;border-radius: 0.25em;box-sizing: border-box;margin-bottom: 0.5em;}#sk-container-id-2 div.sk-estimator:hover {background-color: #d4ebff;}#sk-container-id-2 div.sk-parallel-item::after {content: \"\";width: 100%;border-bottom: 1px solid gray;flex-grow: 1;}#sk-container-id-2 div.sk-label:hover label.sk-toggleable__label {background-color: #d4ebff;}#sk-container-id-2 div.sk-serial::before {content: \"\";position: absolute;border-left: 1px solid gray;box-sizing: border-box;top: 0;bottom: 0;left: 50%;z-index: 0;}#sk-container-id-2 div.sk-serial {display: flex;flex-direction: column;align-items: center;background-color: white;padding-right: 0.2em;padding-left: 0.2em;position: relative;}#sk-container-id-2 div.sk-item {position: relative;z-index: 1;}#sk-container-id-2 div.sk-parallel {display: flex;align-items: stretch;justify-content: center;background-color: white;position: relative;}#sk-container-id-2 div.sk-item::before, #sk-container-id-2 div.sk-parallel-item::before {content: \"\";position: absolute;border-left: 1px solid gray;box-sizing: border-box;top: 0;bottom: 0;left: 50%;z-index: -1;}#sk-container-id-2 div.sk-parallel-item {display: flex;flex-direction: column;z-index: 1;position: relative;background-color: white;}#sk-container-id-2 div.sk-parallel-item:first-child::after {align-self: flex-end;width: 50%;}#sk-container-id-2 div.sk-parallel-item:last-child::after {align-self: flex-start;width: 50%;}#sk-container-id-2 div.sk-parallel-item:only-child::after {width: 0;}#sk-container-id-2 div.sk-dashed-wrapped {border: 1px dashed gray;margin: 0 0.4em 0.5em 0.4em;box-sizing: border-box;padding-bottom: 0.4em;background-color: white;}#sk-container-id-2 div.sk-label label {font-family: monospace;font-weight: bold;display: inline-block;line-height: 1.2em;}#sk-container-id-2 div.sk-label-container {text-align: center;}#sk-container-id-2 div.sk-container {/* jupyter's `normalize.less` sets `[hidden] { display: none; }` but bootstrap.min.css set `[hidden] { display: none !important; }` so we also need the `!important` here to be able to override the default hidden behavior on the sphinx rendered scikit-learn.org. See: https://github.com/scikit-learn/scikit-learn/issues/21755 */display: inline-block !important;position: relative;}#sk-container-id-2 div.sk-text-repr-fallback {display: none;}</style><div id=\"sk-container-id-2\" class=\"sk-top-container\"><div class=\"sk-text-repr-fallback\"><pre>LinearRegression()</pre><b>In a Jupyter environment, please rerun this cell to show the HTML representation or trust the notebook. <br />On GitHub, the HTML representation is unable to render, please try loading this page with nbviewer.org.</b></div><div class=\"sk-container\" hidden><div class=\"sk-item\"><div class=\"sk-estimator sk-toggleable\"><input class=\"sk-toggleable__control sk-hidden--visually\" id=\"sk-estimator-id-2\" type=\"checkbox\" checked><label for=\"sk-estimator-id-2\" class=\"sk-toggleable__label sk-toggleable__label-arrow\">LinearRegression</label><div class=\"sk-toggleable__content\"><pre>LinearRegression()</pre></div></div></div></div></div>"
            ]
          },
          "metadata": {},
          "execution_count": 5
        }
      ],
      "source": [
        "### BEGIN SOLUTION\n",
        "x = temperature = np.array([10, 20, 30, 40, 50, 60, 70, 80, 90]).reshape(-1,1)\n",
        "y = battery_life = np.array([421, 365, 285, 220, 176, 117, 68, 34, 5]).reshape(-1,1)\n",
        "\n",
        "lin_reg = LinearRegression()\n",
        "lin_reg.fit(x, y)\n",
        "\n",
        "### END SOLUTION"
      ]
    },
    {
      "cell_type": "code",
      "execution_count": 6,
      "metadata": {
        "id": "hem9F6skLZhA"
      },
      "outputs": [],
      "source": [
        "# DO NOT CHANGE\n",
        "answers.Q1 = lin_reg"
      ]
    },
    {
      "cell_type": "markdown",
      "metadata": {
        "id": "Nob6YBtTjpLL",
        "trusted": true,
        "editable": false,
        "deletable": false
      },
      "source": [
        "# Question 2 (2 points)\n",
        "\n",
        "Now we would like to know the parameters (intercept $\\beta_0$ and coefficient $\\beta_1$) of the fitted regression model. Extract these from the model `lin_reg` and provide the following parameter values:\n",
        "* `intercept`: representing the intercept/constant $\\beta_0$ (represents the expected response when $x=0$)\n",
        "* `coefficient`: representing the coefficient/slope $\\beta_1$ (represents the relationship between $x$ and $y$)\n",
        "\n",
        "**POINTS**\n",
        "* Extracting correct intercept: 1 point\n",
        "* Extracting correct coefficient: 1 point\n"
      ]
    },
    {
      "cell_type": "code",
      "execution_count": 14,
      "metadata": {
        "id": "ftVcxEi0LZhB",
        "colab": {
          "base_uri": "https://localhost:8080/"
        },
        "outputId": "bf30f792-f192-4ed7-abb4-50065eada9c5"
      },
      "outputs": [
        {
          "output_type": "stream",
          "name": "stdout",
          "text": [
            "[454.05555556] [[-5.32333333]]\n"
          ]
        }
      ],
      "source": [
        "### BEGIN SOLUTION\n",
        "x = temperature = np.array([10, 20, 30, 40, 50, 60, 70, 80, 90]).reshape(-1,1)\n",
        "y = battery_life = np.array([421, 365, 285, 220, 176, 117, 68, 34, 5]).reshape(-1,1)\n",
        "\n",
        "lin_reg = LinearRegression()\n",
        "lin_reg.fit(x, y)\n",
        "\n",
        "intercept = lin_reg.intercept_\n",
        "coefficient = lin_reg.coef_\n",
        "print(intercept, coefficient)\n",
        "### END SOLUTION"
      ]
    },
    {
      "cell_type": "code",
      "execution_count": 15,
      "metadata": {
        "id": "VoaFPxf7LZhC"
      },
      "outputs": [],
      "source": [
        "# DO NOT CHANGE\n",
        "answers.Q2 = [intercept, coefficient]"
      ]
    },
    {
      "cell_type": "markdown",
      "metadata": {
        "id": "q81qI_9bvX6d",
        "trusted": true,
        "editable": false,
        "deletable": false
      },
      "source": [
        "# Question 3 (3 points)\n",
        "\n",
        "\n",
        "Now we use our linear regression model to estimate the battery life at room temperature (25 degrees celcius). Use the model to derive this estimation\n",
        "* Named `lifetime_at_25`\n",
        "\n",
        "**POINTS**\n",
        "* Extracting correct estimate: 3 points"
      ]
    },
    {
      "cell_type": "code",
      "execution_count": 16,
      "metadata": {
        "id": "pTeDYNfpvXCe",
        "colab": {
          "base_uri": "https://localhost:8080/"
        },
        "outputId": "338d79cf-f352-4bc7-dc77-c31fadecf3db"
      },
      "outputs": [
        {
          "output_type": "stream",
          "name": "stdout",
          "text": [
            "[[320.97222222]]\n"
          ]
        }
      ],
      "source": [
        "### BEGIN SOLUTION\n",
        "x = temperature = np.array([10, 20, 30, 40, 50, 60, 70, 80, 90]).reshape(-1,1)\n",
        "y = battery_life = np.array([421, 365, 285, 220, 176, 117, 68, 34, 5]).reshape(-1,1)\n",
        "\n",
        "lin_reg = LinearRegression()\n",
        "lin_reg.fit(x, y)\n",
        "\n",
        "x_pred = np.array([25]).reshape(-1,1)\n",
        "y_pred = lifetime_at_25 = lin_reg.predict(x_pred)\n",
        "print(y_pred)\n",
        "### END SOLUTION"
      ]
    },
    {
      "cell_type": "code",
      "execution_count": null,
      "metadata": {
        "id": "ImDl6wFqLZhD"
      },
      "outputs": [],
      "source": [
        "# DO NOT CHANGE\n",
        "answers.Q3 = lifetime_at_25"
      ]
    },
    {
      "cell_type": "markdown",
      "metadata": {
        "id": "rYVkGM8MkJZL",
        "trusted": true,
        "editable": false,
        "deletable": false
      },
      "source": [
        "## ***Optional***: we can plot our results to visualize the linear regression"
      ]
    },
    {
      "cell_type": "code",
      "execution_count": 17,
      "metadata": {
        "id": "HQh8Lz3nZj14",
        "colab": {
          "base_uri": "https://localhost:8080/"
        },
        "outputId": "a1bdaa52-8eb1-4611-98cd-95c0a4ee2a3c"
      },
      "outputs": [
        {
          "output_type": "execute_result",
          "data": {
            "text/plain": [
              "array([[400.82222222],\n",
              "       [347.58888889],\n",
              "       [294.35555556],\n",
              "       [241.12222222],\n",
              "       [187.88888889],\n",
              "       [134.65555556],\n",
              "       [ 81.42222222],\n",
              "       [ 28.18888889],\n",
              "       [-25.04444444]])"
            ]
          },
          "metadata": {},
          "execution_count": 17
        }
      ],
      "source": [
        "x_pred = np.array([10, 20, 30, 40, 50, 60, 70, 80, 90]).reshape(-1,1)\n",
        "y_pred = lin_reg.predict(x_pred)\n",
        "y_pred"
      ]
    },
    {
      "cell_type": "code",
      "execution_count": 18,
      "metadata": {
        "id": "EFrvl8PkZk0t",
        "colab": {
          "base_uri": "https://localhost:8080/",
          "height": 449
        },
        "outputId": "8de22b12-ccf3-4d19-a1ea-0e9c03803f97"
      },
      "outputs": [
        {
          "output_type": "display_data",
          "data": {
            "text/plain": [
              "<Figure size 640x480 with 1 Axes>"
            ],
            "image/png": "[encoded data removed]"
          },
          "metadata": {}
        }
      ],
      "source": [
        "import matplotlib.pyplot as plt\n",
        "\n",
        "plt.xlabel(\"temperature\")\n",
        "plt.ylabel(\"battery life\")\n",
        "plt.scatter(temperature, battery_life, color=\"blue\", label=\"data\")\n",
        "plt.plot(x_pred, y_pred, color=\"red\", label=\"prediction\")\n",
        "plt.legend()\n",
        "plt.show()"
      ]
    }
  ]
}