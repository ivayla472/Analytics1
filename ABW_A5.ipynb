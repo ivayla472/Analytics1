{
  "metadata": {
    "celltoolbar": "Edit Metadata",
    "colab": {
      "provenance": []
    },
    "kernelspec": {
      "display_name": "Python 3 (ipykernel)",
      "language": "python",
      "name": "python3"
    },
    "language_info": {
      "codemirror_mode": {
        "name": "ipython",
        "version": 3
      },
      "file_extension": ".py",
      "mimetype": "text/x-python",
      "name": "python",
      "nbconvert_exporter": "python",
      "pygments_lexer": "ipython3",
      "version": "3.9.13"
    }
  },
  "nbformat": 4,
  "nbformat_minor": 0,
  "cells": [
    {
      "cell_type": "code",
      "execution_count": 6,
      "source": [
        "# Run this cell first!\n",
        "class _CgAnswers: ...\n",
        "answers = _CgAnswers()\n"
      ],
      "outputs": [],
      "metadata": {
        "trusted": true,
        "editable": false,
        "deletable": false,
        "id": "u5zPMfBf5AlN"
      }
    },
    {
      "cell_type": "markdown",
      "metadata": {
        "id": "Am9ecw9yWv96",
        "nbgrader": {
          "grade": false,
          "grade_id": "cell-48f3558955bbd1c0",
          "locked": true,
          "schema_version": 3,
          "solution": false,
          "task": false
        },
        "trusted": true,
        "editable": false,
        "deletable": false
      },
      "source": [
        "# Analytics for a better world\n",
        "## Assignment 5: Linear programming (with explicit variables)"
      ]
    },
    {
      "cell_type": "markdown",
      "metadata": {
        "id": "xg2v6bkkP3rg",
        "trusted": true,
        "editable": false,
        "deletable": false
      },
      "source": [
        "* This assignment is made for auto-grading with CodeGrade in Canvas\n",
        "* Write your code\n",
        "* **NEVER TOUCH THE CODE WHERE IT IS MARKED \"DO NOT CHANGE\"**\n",
        "* Submit through Canvas: [Link](https://canvas.uva.nl/courses/32521/assignments/362160)\n",
        "* Check the feedback"
      ]
    },
    {
      "cell_type": "code",
      "source": [
        "# DO NOT CHANGE\n",
        "import sys\n",
        "at_colab = \"google.colab\" in sys.modules\n",
        "\n",
        "if at_colab:\n",
        "    import shutil\n",
        "    if not shutil.which(\"pyomo\"):\n",
        "        !pip install -q pyomo\n",
        "        assert(shutil.which(\"pyomo\"))"
      ],
      "metadata": {
        "id": "E1eBVw64S8tW"
      },
      "execution_count": 7,
      "outputs": []
    },
    {
      "cell_type": "markdown",
      "metadata": {
        "tags": [],
        "trusted": true,
        "editable": false,
        "deletable": false,
        "id": "iZcGEoDV5AlR"
      },
      "source": [
        "# Question 1 - The WorldLight Company (5 points)"
      ]
    },
    {
      "cell_type": "markdown",
      "metadata": {
        "trusted": true,
        "editable": false,
        "deletable": false,
        "id": "RsTP-GwC5AlS"
      },
      "source": [
        "The WorldLight Company produces two light fixtures (products 1 and 2) that require both metal frame parts and electrical components. Management wants to determine how many units of each product to produce so as to maximize profit. For each unit of product 1, 1 unit of frame parts and 2 units of electrical components are required. For each unit of product 2, 3 units of frame parts and 2 units of electrical components are required. The company has 200 units of frame parts and 300 units of electrical components. Each unit of product 1 gives a profit of €1, and each unit of product 2, up to 60 units, gives a profit of €2. Any excess over 60 units of product 2 brings no profit, so such an excess has been ruled out.\n",
        "\n",
        "Write a function:\n",
        "* named `model_worldlight`, with no arguments\n",
        "* returning a pyomo model\n",
        "* The model should have:\n",
        "    * two variables: named `x1` for product x1 and `x2` for product x2.\n",
        "    * at least two constraints, named `frame_parts`, and `electrical_parts`, making sure that the number of parts used does not exceed the number of parts that is available.\n",
        "    * one objective, named `profit`.\n",
        "\n",
        "**POINTS**\n",
        "* Correctly defining the objective function: 1 point\n",
        "* Correctly defining the constraints: 2 points\n",
        "* Getting the expected solution when solving the model: 2 points"
      ]
    },
    {
      "cell_type": "code",
      "execution_count": 4,
      "metadata": {
        "tags": [],
        "id": "aPFOMfRi5AlT"
      },
      "outputs": [],
      "source": [
        "# DO NOT CHANGE\n",
        "import pyomo.environ as pyo"
      ]
    },
    {
      "cell_type": "code",
      "execution_count": 17,
      "metadata": {
        "id": "JGpgxdt7CsjH",
        "nbgrader": {
          "grade": false,
          "grade_id": "cell-9bd844c85ce879f1",
          "locked": true,
          "schema_version": 3,
          "solution": false,
          "task": false
        }
      },
      "outputs": [],
      "source": [
        "### BEGIN SOLUTION\n",
        "import pyomo.environ as pyo\n",
        "from pyomo.environ import *\n",
        "\n",
        "#Define a FUNCTION\n",
        "def model_worldlight():\n",
        "  model = pyo.ConcreteModel()\n",
        "\n",
        "#Define the variables\n",
        "  model.x1 = pyo.Var(domain=NonNegativeReals)\n",
        "  model.x2 = pyo.Var(domain=NonNegativeReals)\n",
        "\n",
        "#Define objective FUNCTION\n",
        "  model.profit = pyo.Objective(sense = pyo.maximize, expr = 1*model.x1 + 2*model.x2)\n",
        "\n",
        "#Define constraints\n",
        "  model.frame_parts = pyo.Constraint(expr = 1*model.x1 + 3*model.x2 <= 200)\n",
        "  model.electrical_parts = pyo.Constraint(expr = 2*model.x1 + 2*model.x2 <= 300)\n",
        "  model.x1domain  = pyo.Constraint(expr = model.x1 >= 0)\n",
        "  model.x2domain  = pyo.Constraint(expr = model.x2 >= 0)\n",
        "  model.x2domain  = pyo.Constraint(expr = model.x2 <= 60)\n",
        "\n",
        "  return model\n",
        "\n",
        "### END SOLUTION"
      ]
    },
    {
      "cell_type": "code",
      "execution_count": 15,
      "metadata": {
        "deletable": false,
        "tags": [],
        "id": "DABo9A6W5AlU"
      },
      "outputs": [],
      "source": [
        "# DO NOT CHANGE\n",
        "answers.Q1_obj = model_worldlight\n",
        "answers.Q1_con = model_worldlight\n",
        "answers.Q1_out = model_worldlight"
      ]
    },
    {
      "cell_type": "markdown",
      "metadata": {
        "trusted": true,
        "editable": false,
        "deletable": false,
        "id": "9xqOfziI5AlU"
      },
      "source": [
        "# Question 2 - Weenies and Buns (5 points)"
      ]
    },
    {
      "cell_type": "markdown",
      "metadata": {
        "trusted": true,
        "editable": false,
        "deletable": false,
        "id": "hO4axtk_5AlV"
      },
      "source": [
        "Weenies and Buns is a food processing plant which manufactures buns and frankfurters for hot dogs. They grind their own flour for the buns at a maximum rate of 200 pounds per week. Each bun requires 0.1 pound of flour. They currently have a contract with Pigland, Inc., which specifies that a delivery of 800 pounds of pork product is delivered every Monday. Each frankfurter requires 0.25 pound of pork product. All the other ingredients in the buns and frankfurters are in plentiful supply. Finally, the labor force at Weenies and Buns consists of 5 employees working full time (40 hours per week each). Each frankfurter requires 3 minutes of labor, and each bun requires 2 minutes of labor. Each frankfurter yields a profit of €0.88, and each bun yields a profit of €0.33. Weenies and Buns would like to know how many frankfurters and how many buns they should produce each week so as to achieve the highest possible profit.\n",
        "\n",
        "Write a function:\n",
        "* named `model_wb`, with no arguments\n",
        "* returning a pyomo model\n",
        "* The model should have:\n",
        "    * two variables: named `x1` for frankfurters and `x2` for buns.\n",
        "    * at least one constraint, named `working_hours`, making sure that the total number of scheduled working hours does not exceed the total number of working hours that the employees are available.\n",
        "    * one objective, named `profit`.\n",
        "\n",
        "**POINTS**\n",
        "* Correctly defining the model with all of its components, and getting the expected solution after solving: 5 points"
      ]
    },
    {
      "cell_type": "code",
      "execution_count": null,
      "metadata": {
        "tags": [],
        "id": "cop_QN3h5AlV"
      },
      "outputs": [],
      "source": [
        "# DO NOT CHANGE\n",
        "import pyomo.environ as pyo"
      ]
    },
    {
      "cell_type": "code",
      "execution_count": 24,
      "metadata": {
        "id": "H-cqVggh5AlW"
      },
      "outputs": [],
      "source": [
        "### BEGIN SOLUTION\n",
        "import pyomo.environ as pyo\n",
        "\n",
        "#Define a FUNCTION\n",
        "def model_wb():\n",
        "  model = pyo.ConcreteModel()\n",
        "\n",
        "#Define the variables\n",
        "  model.x1 = pyo.Var(domain=NonNegativeReals, bounds = (0,3200))\n",
        "  model.x2 = pyo.Var(domain=NonNegativeReals, bounds = (0,2000))\n",
        "\n",
        "#Define objective FUNCTION\n",
        "  model.profit = pyo.Objective(sense = pyo.maximize, expr = 0.88*model.x1 + 0.33*model.x2)\n",
        "\n",
        "#Define constraints\n",
        "  model.working_hours = pyo.Constraint(expr = (1/20)*model.x1 + (1/30)*model.x2 <= 200)\n",
        "  model.x1domain  = pyo.Constraint(expr = model.x1 >= 0)\n",
        "  model.x2domain  = pyo.Constraint(expr = model.x2 >= 0)\n",
        "\n",
        "\n",
        "  return model\n",
        "\n",
        "### END SOLUTION"
      ]
    },
    {
      "cell_type": "code",
      "execution_count": 20,
      "metadata": {
        "deletable": false,
        "tags": [],
        "id": "ZDw_jt9I5AlX"
      },
      "outputs": [],
      "source": [
        "# DO NOT CHANGE\n",
        "answers.Q2_obj = model_wb\n",
        "answers.Q2_con = model_wb\n",
        "answers.Q2_out = model_wb"
      ]
    }
  ]
}