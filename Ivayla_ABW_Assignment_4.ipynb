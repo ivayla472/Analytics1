{
  "metadata": {
    "colab": {
      "provenance": []
    },
    "kernelspec": {
      "display_name": "Python 3 (ipykernel)",
      "language": "python",
      "name": "python3"
    },
    "language_info": {
      "codemirror_mode": {
        "name": "ipython",
        "version": 3
      },
      "file_extension": ".py",
      "mimetype": "text/x-python",
      "name": "python",
      "nbconvert_exporter": "python",
      "pygments_lexer": "ipython3",
      "version": "3.9.7"
    }
  },
  "nbformat": 4,
  "nbformat_minor": 0,
  "cells": [
    {
      "cell_type": "code",
      "execution_count": 2,
      "source": [
        "# Run this cell first!\n",
        "class _CgAnswers: ...\n",
        "answers = _CgAnswers()\n"
      ],
      "outputs": [],
      "metadata": {
        "trusted": true,
        "editable": false,
        "deletable": false,
        "id": "p_NAhRkbVbAB"
      }
    },
    {
      "cell_type": "markdown",
      "metadata": {
        "id": "aPvP6C67e-5w",
        "trusted": true,
        "editable": false,
        "deletable": false
      },
      "source": [
        "# Analytics for a Better World\n",
        "## Assignment 4: Shortest Path"
      ]
    },
    {
      "cell_type": "markdown",
      "metadata": {
        "id": "tVEpWnwOfCtf",
        "trusted": true,
        "editable": false,
        "deletable": false
      },
      "source": [
        "___\n",
        "\n",
        "\n",
        "* This assignment is made for auto-grading with CodeGrade in Canvas\n",
        "* Write your code\n",
        "* **NEVER TOUCH THE CODE WHERE IT IS MARKED \"DO NOT CHANGE\"**\n",
        "* Submit through Canvas: [Link](https://canvas.uva.nl/courses/32521/assignments/365622)\n",
        "* Check the feedback"
      ]
    },
    {
      "cell_type": "markdown",
      "metadata": {
        "id": "eUtMYtarf8kQ",
        "trusted": true,
        "editable": false,
        "deletable": false
      },
      "source": [
        "# Question 1 (4 points)\n",
        "(This exercise is taken from the book by Hillier and Lieberman, exercise 10.3-2)\n",
        "\n",
        "You need to take a trip by car to another town that you have never visited before. Therefore, you are studying a map to\n",
        "determine the shortest route to your destination. Depending on which route you choose, there are five other towns (call them A,\n",
        "B, C, D, E) that you might pass through on the way. The map shows the mileage along each road that directly connects two\n",
        "towns without any intervening towns. These numbers are summarized in the following table, where a dash indicates that there\n",
        "is no road directly connecting these two towns without going through any other towns.\n",
        "\n",
        "Town  | A | B | C | D | E | Destination\n",
        "------|---|---|---|---|---|-------------\n",
        "Origin  | 40 | 60 | 50 |  - |  - | -\n",
        "A       |    | 10 |  - | 70 |  - | -\n",
        "B       |    |    | 20 | 55 | 40 | -\n",
        "C       |    |    |    |  - | 50 | -\n",
        "D       |    |    |    |    | 10 | 60\n",
        "E       |    |    |    |    |    | 80\n",
        "\n",
        "Hint: Check [this](https://colab.research.google.com/drive/1KH5GJnEWeX0XvPdK_eIcHMFjzrmTnilo) notebook for an example regarding solving shortest path problems with networkx in Python."
      ]
    },
    {
      "cell_type": "markdown",
      "metadata": {
        "id": "7Gc_8UeJf_dY",
        "trusted": true,
        "editable": false,
        "deletable": false
      },
      "source": [
        "Construct a networkx directed graph (networkx.DiGraph())\n",
        "* Initialize the graph `town_network` with towns/nodes `Origin`, `A`, `B`, `C`, `D`, `E` and `Destination`. Add the appropriate roads/edges to this graph, along with their lengths (mileage).\n",
        "\n",
        "**POINTS**\n",
        "* Initializing and defining `town_network`, using networkx.DiGraph(): 1 point\n",
        "* Correctly defining the nodes and edges of `town_network`: 3 points"
      ]
    },
    {
      "cell_type": "code",
      "execution_count": null,
      "metadata": {
        "id": "tbmyaYvwVbAR"
      },
      "outputs": [],
      "source": [
        "# DO NOT CHANGE\n",
        "import networkx as nx"
      ]
    },
    {
      "cell_type": "code",
      "execution_count": 6,
      "metadata": {
        "id": "f1X0M3JueqzC"
      },
      "outputs": [],
      "source": [
        "### BEGIN SOLUTION\n",
        "import networkx as nx\n",
        "town_network = nx.DiGraph()\n",
        "town_network.add_edge('Origin','A',length= 40)\n",
        "town_network.add_edge('Origin','B',length= 60)\n",
        "town_network.add_edge('Origin','C',length= 50)\n",
        "town_network.add_edge(\"A\", \"B\", length=10)\n",
        "town_network.add_edge(\"A\", \"D\", length=70)\n",
        "town_network.add_edge('B','C',length= 20)\n",
        "town_network.add_edge('B','D',length= 55)\n",
        "town_network.add_edge('B','E',length= 40)\n",
        "town_network.add_edge('C','E',length= 50)\n",
        "town_network.add_edge('D','E',length= 10)\n",
        "town_network.add_edge('D','Destination',length= 60)\n",
        "town_network.add_edge('E','Destination',length= 80)\n",
        "### END SOLUTION"
      ]
    },
    {
      "cell_type": "code",
      "execution_count": null,
      "metadata": {
        "id": "OFR4Tk72lXMS"
      },
      "outputs": [],
      "source": [
        "# DO NOT CHANGE\n",
        "answers.Q1 = town_network"
      ]
    },
    {
      "cell_type": "markdown",
      "metadata": {
        "trusted": true,
        "editable": false,
        "deletable": false,
        "id": "H74mOoU1VbAV"
      },
      "source": [
        "# Question 2 (2 points)\n",
        "\n",
        "* Find the shortest path from `Origin` to `Destination`, which towns are passed along the route? Store the order in a list called `solution`.\n",
        "* Note: If you were unable to complete the previous question (constructing a graph using networkx), you may also derive the answer on paper and manually fill in the `solution` list.\n",
        "\n",
        "**POINTS**\n",
        "* Correctly deriving the shortest path and storing the result in `solution`: 2 points"
      ]
    },
    {
      "cell_type": "code",
      "execution_count": 7,
      "metadata": {
        "colab": {
          "base_uri": "https://localhost:8080/"
        },
        "id": "AxVrQ6glVbAW",
        "outputId": "f40e69db-a50d-475e-92e1-5c58a735ee1a"
      },
      "outputs": [
        {
          "output_type": "execute_result",
          "data": {
            "text/plain": [
              "['Origin', 'A', 'B', 'D', 'Destination']"
            ]
          },
          "metadata": {},
          "execution_count": 7
        }
      ],
      "source": [
        "### BEGIN SOLUTION\n",
        "solution = nx.shortest_path(town_network,source='Origin',target='Destination',weight='length')\n",
        "solution\n",
        "### END SOLUTION"
      ]
    },
    {
      "cell_type": "code",
      "execution_count": null,
      "metadata": {
        "id": "SgL4gw3dVbAW"
      },
      "outputs": [],
      "source": [
        "# DO NOT CHANGE\n",
        "answers.Q2 = solution"
      ]
    },
    {
      "cell_type": "markdown",
      "metadata": {
        "trusted": true,
        "editable": false,
        "deletable": false,
        "id": "wRf_RTt_VbAX"
      },
      "source": [
        "# Question 3 (2 points)\n",
        "\n",
        "* Now that we have found the shortest path from `Origin` to `Destination`, what is the length of this path? What is the minimum mileage to get from `Origin` to `Destination`? Store the answer as an integer or float in the variable `length_of_solution`.\n",
        "* Note: If you were unable to complete the previous question (constructing a graph using networkx), you may also derive the answer on paper and manually fill in the `length_of_solution` variable.\n",
        "\n",
        "**POINTS**\n",
        "* Correctly deriving the length of the shortest path and storing the result in `length_of_solution`: 2 points"
      ]
    },
    {
      "cell_type": "code",
      "execution_count": 12,
      "metadata": {
        "colab": {
          "base_uri": "https://localhost:8080/"
        },
        "id": "40POyIq5VbAX",
        "outputId": "343c173b-d755-41f1-949e-2143e40035bd"
      },
      "outputs": [
        {
          "output_type": "execute_result",
          "data": {
            "text/plain": [
              "165"
            ]
          },
          "metadata": {},
          "execution_count": 12
        }
      ],
      "source": [
        "### BEGIN SOLUTION\n",
        "length_of_solution = nx.shortest_path_length(town_network,source='Origin',target='Destination',weight='length')\n",
        "length_of_solution\n",
        "### END SOLUTION"
      ]
    },
    {
      "cell_type": "code",
      "execution_count": 11,
      "metadata": {
        "id": "sPCFfmKWVbAY"
      },
      "outputs": [],
      "source": [
        "# DO NOT CHANGE\n",
        "answers.Q3 = length_of_solution"
      ]
    },
    {
      "cell_type": "markdown",
      "metadata": {
        "trusted": true,
        "editable": false,
        "deletable": false,
        "id": "xe2jyiebVbAY"
      },
      "source": [
        "# Question 4 (2 points)\n",
        "\n",
        "Imagine that there is a sudden snowstorm. The road from `D` to `Destination` is completely blocked off and no longer accessible. Does this disruption alter the shortest path from `Origin` to `Destination`? If so, what is the new solution to this problem?\n",
        "\n",
        "* Given the snowstorm and disruptions, find the new shortest path from `Origin` to `Destination`. Provide your answer as a list `new_solution` and an integer (or float) in the variable `new_length_of_solution`.\n",
        "* Note: If you were unable to complete the previous question (constructing a graph using networkx), you may also derive the answer on paper and manually fill in the variables.\n",
        "\n",
        "**POINTS**\n",
        "* Correctly deriving the new shortest path and storing the result as `new_solution`: 1 points\n",
        "* Correctly deriving the length of the new shortest path and storing the result in `new_length_of_solution`: 1 points"
      ]
    },
    {
      "cell_type": "code",
      "execution_count": 13,
      "metadata": {
        "colab": {
          "base_uri": "https://localhost:8080/"
        },
        "id": "mW-2nIcdVbAZ",
        "outputId": "9f35179c-50c1-4ed5-fb0b-a75037ecc88d"
      },
      "outputs": [
        {
          "output_type": "stream",
          "name": "stdout",
          "text": [
            "['Origin', 'A', 'B', 'E', 'Destination']\n",
            "170\n"
          ]
        }
      ],
      "source": [
        "### BEGIN SOLUTION\n",
        "town_network.remove_edge(\"D\", \"Destination\")\n",
        "\n",
        "my_list = new_solution = []\n",
        "new_solution = nx.shortest_path(town_network,source='Origin',target='Destination',weight='length')\n",
        "print(new_solution)\n",
        "\n",
        "new_length_of_solution = nx.shortest_path_length(town_network,source='Origin',target='Destination',weight='length')\n",
        "print(new_length_of_solution)\n",
        "### END SOLUTION"
      ]
    },
    {
      "cell_type": "code",
      "execution_count": null,
      "metadata": {
        "id": "QlDkml0eVbAZ"
      },
      "outputs": [],
      "source": [
        "# DO NOT CHANGE\n",
        "answers.Q4_1 = new_solution\n",
        "answers.Q4_2 = new_length_of_solution"
      ]
    }
  ]
}